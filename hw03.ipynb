{
 "cells": [
  {
   "cell_type": "markdown",
   "metadata": {},
   "source": [
    "# Setup\n",
    "\n",
    "First, let's import a few common modules, ensure MatplotLib plots figures inline and prepare a function to save the figures. We also check that Python 3.5 or later is installed, as well as Scikit-Learn ≥0.20. You don't need to change any code in the following cell, just run it."
   ]
  },
  {
   "cell_type": "code",
   "execution_count": 1,
   "metadata": {},
   "outputs": [],
   "source": [
    "# Python ≥3.5 is required\n",
    "import sys\n",
    "assert sys.version_info >= (3, 5)\n",
    "\n",
    "# Scikit-Learn ≥0.20 is required\n",
    "import sklearn\n",
    "assert sklearn.__version__ >= \"0.20\"\n",
    "\n",
    "# Common imports\n",
    "import numpy as np\n",
    "import os\n",
    "\n",
    "# to make this notebook's output stable across runs\n",
    "np.random.seed(42)\n",
    "\n",
    "# To plot pretty figures\n",
    "%matplotlib inline\n",
    "import matplotlib as mpl\n",
    "import matplotlib.pyplot as plt\n",
    "mpl.rc('axes', labelsize=14)\n",
    "mpl.rc('xtick', labelsize=12)\n",
    "mpl.rc('ytick', labelsize=12)\n",
    "\n",
    "# Where to save the figures\n",
    "PROJECT_ROOT_DIR = \".\"\n",
    "CHAPTER_ID = \"training_linear_models\"\n",
    "IMAGES_PATH = os.path.join(PROJECT_ROOT_DIR, \"images\", CHAPTER_ID)\n",
    "os.makedirs(IMAGES_PATH, exist_ok=True)\n",
    "\n",
    "def save_fig(fig_id, tight_layout=True, fig_extension=\"png\", resolution=300):\n",
    "    path = os.path.join(IMAGES_PATH, fig_id + \".\" + fig_extension)\n",
    "    print(\"Saving figure\", fig_id)\n",
    "    if tight_layout:\n",
    "        plt.tight_layout()\n",
    "    # plt.savefig(path, format=fig_extension, dpi=resolution)"
   ]
  },
  {
   "cell_type": "markdown",
   "metadata": {},
   "source": [
    "# Read the dataset "
   ]
  },
  {
   "cell_type": "code",
   "execution_count": 10,
   "metadata": {},
   "outputs": [],
   "source": [
    "# fields are separated by comma and skip the first row (titles) when reading\n",
    "data = np.loadtxt(\"hw03_data.txt\", skiprows=1, dtype = \"float\", delimiter=\",\")\n",
    "\n",
    "# Scale the data with sklearn StandardScaler\n",
    "# Write your code here\n",
    "from sklearn.preprocessing import StandardScaler\n",
    "scaler = StandardScaler()\n",
    "data = scaler.fit_transform(data)\n",
    "\n",
    "\n",
    "X = data[:, [0]]\n",
    "y = data[:, [1]]"
   ]
  },
  {
   "cell_type": "markdown",
   "metadata": {},
   "source": [
    "# Visualize the dataset"
   ]
  },
  {
   "cell_type": "code",
   "execution_count": 17,
   "metadata": {
    "scrolled": true
   },
   "outputs": [
    {
     "data": {
      "image/png": "[encoded data removed]",
      "text/plain": [
       "<Figure size 720x432 with 1 Axes>"
      ]
     },
     "metadata": {
      "needs_background": "light"
     },
     "output_type": "display_data"
    }
   ],
   "source": [
    "# Write your code here\n",
    "# visualize the data\n",
    "fig , ax = plt.subplots(figsize=(10, 6))\n",
    "plt.plot(X, y, \"b.\",)\n",
    "plt.xlabel(\"R&D Expenditure\", fontsize=18)\n",
    "plt.ylabel(\"profit\", fontsize=18)\n",
    "plt.axis([0, 2, 0, 4])\n",
    "# save_fig(\"generated_data_plot\")\n",
    "plt.show()"
   ]
  },
  {
   "cell_type": "markdown",
   "metadata": {},
   "source": [
    "# Training with scikit_learn Linear Regression \n",
    "\n"
   ]
  },
  {
   "cell_type": "code",
   "execution_count": 18,
   "metadata": {},
   "outputs": [],
   "source": [
    "# Write your code here\n",
    "# split the data into training and test sets with 80% training and 20% test data\n",
    "from sklearn.model_selection import train_test_split\n",
    "X_train, X_test, y_train, y_test = train_test_split(X, y, test_size=0.2, random_state=42)"
   ]
  },
  {
   "cell_type": "code",
   "execution_count": 19,
   "metadata": {},
   "outputs": [
    {
     "data": {
      "text/html": [
       "<style>#sk-container-id-1 {color: black;background-color: white;}#sk-container-id-1 pre{padding: 0;}#sk-container-id-1 div.sk-toggleable {background-color: white;}#sk-container-id-1 label.sk-toggleable__label {cursor: pointer;display: block;width: 100%;margin-bottom: 0;padding: 0.3em;box-sizing: border-box;text-align: center;}#sk-container-id-1 label.sk-toggleable__label-arrow:before {content: \"▸\";float: left;margin-right: 0.25em;color: #696969;}#sk-container-id-1 label.sk-toggleable__label-arrow:hover:before {color: black;}#sk-container-id-1 div.sk-estimator:hover label.sk-toggleable__label-arrow:before {color: black;}#sk-container-id-1 div.sk-toggleable__content {max-height: 0;max-width: 0;overflow: hidden;text-align: left;background-color: #f0f8ff;}#sk-container-id-1 div.sk-toggleable__content pre {margin: 0.2em;color: black;border-radius: 0.25em;background-color: #f0f8ff;}#sk-container-id-1 input.sk-toggleable__control:checked~div.sk-toggleable__content {max-height: 200px;max-width: 100%;overflow: auto;}#sk-container-id-1 input.sk-toggleable__control:checked~label.sk-toggleable__label-arrow:before {content: \"▾\";}#sk-container-id-1 div.sk-estimator input.sk-toggleable__control:checked~label.sk-toggleable__label {background-color: #d4ebff;}#sk-container-id-1 div.sk-label input.sk-toggleable__control:checked~label.sk-toggleable__label {background-color: #d4ebff;}#sk-container-id-1 input.sk-hidden--visually {border: 0;clip: rect(1px 1px 1px 1px);clip: rect(1px, 1px, 1px, 1px);height: 1px;margin: -1px;overflow: hidden;padding: 0;position: absolute;width: 1px;}#sk-container-id-1 div.sk-estimator {font-family: monospace;background-color: #f0f8ff;border: 1px dotted black;border-radius: 0.25em;box-sizing: border-box;margin-bottom: 0.5em;}#sk-container-id-1 div.sk-estimator:hover {background-color: #d4ebff;}#sk-container-id-1 div.sk-parallel-item::after {content: \"\";width: 100%;border-bottom: 1px solid gray;flex-grow: 1;}#sk-container-id-1 div.sk-label:hover label.sk-toggleable__label {background-color: #d4ebff;}#sk-container-id-1 div.sk-serial::before {content: \"\";position: absolute;border-left: 1px solid gray;box-sizing: border-box;top: 0;bottom: 0;left: 50%;z-index: 0;}#sk-container-id-1 div.sk-serial {display: flex;flex-direction: column;align-items: center;background-color: white;padding-right: 0.2em;padding-left: 0.2em;position: relative;}#sk-container-id-1 div.sk-item {position: relative;z-index: 1;}#sk-container-id-1 div.sk-parallel {display: flex;align-items: stretch;justify-content: center;background-color: white;position: relative;}#sk-container-id-1 div.sk-item::before, #sk-container-id-1 div.sk-parallel-item::before {content: \"\";position: absolute;border-left: 1px solid gray;box-sizing: border-box;top: 0;bottom: 0;left: 50%;z-index: -1;}#sk-container-id-1 div.sk-parallel-item {display: flex;flex-direction: column;z-index: 1;position: relative;background-color: white;}#sk-container-id-1 div.sk-parallel-item:first-child::after {align-self: flex-end;width: 50%;}#sk-container-id-1 div.sk-parallel-item:last-child::after {align-self: flex-start;width: 50%;}#sk-container-id-1 div.sk-parallel-item:only-child::after {width: 0;}#sk-container-id-1 div.sk-dashed-wrapped {border: 1px dashed gray;margin: 0 0.4em 0.5em 0.4em;box-sizing: border-box;padding-bottom: 0.4em;background-color: white;}#sk-container-id-1 div.sk-label label {font-family: monospace;font-weight: bold;display: inline-block;line-height: 1.2em;}#sk-container-id-1 div.sk-label-container {text-align: center;}#sk-container-id-1 div.sk-container {/* jupyter's `normalize.less` sets `[hidden] { display: none; }` but bootstrap.min.css set `[hidden] { display: none !important; }` so we also need the `!important` here to be able to override the default hidden behavior on the sphinx rendered scikit-learn.org. See: https://github.com/scikit-learn/scikit-learn/issues/21755 */display: inline-block !important;position: relative;}#sk-container-id-1 div.sk-text-repr-fallback {display: none;}</style><div id=\"sk-container-id-1\" class=\"sk-top-container\"><div class=\"sk-text-repr-fallback\"><pre>LinearRegression()</pre><b>In a Jupyter environment, please rerun this cell to show the HTML representation or trust the notebook. <br />On GitHub, the HTML representation is unable to render, please try loading this page with nbviewer.org.</b></div><div class=\"sk-container\" hidden><div class=\"sk-item\"><div class=\"sk-estimator sk-toggleable\"><input class=\"sk-toggleable__control sk-hidden--visually\" id=\"sk-estimator-id-1\" type=\"checkbox\" checked><label for=\"sk-estimator-id-1\" class=\"sk-toggleable__label sk-toggleable__label-arrow\">LinearRegression</label><div class=\"sk-toggleable__content\"><pre>LinearRegression()</pre></div></div></div></div></div>"
      ],
      "text/plain": [
       "LinearRegression()"
      ]
     },
     "execution_count": 19,
     "metadata": {},
     "output_type": "execute_result"
    }
   ],
   "source": [
    "# Fitting the training data to the model\n",
    "from sklearn.linear_model import LinearRegression\n",
    "\n",
    "linreg = LinearRegression()\n",
    "linreg.fit(X_train, y_train)"
   ]
  },
  {
   "cell_type": "code",
   "execution_count": 20,
   "metadata": {},
   "outputs": [
    {
     "data": {
      "text/plain": [
       "(0.0, 2.0, 0.0, 4.0)"
      ]
     },
     "execution_count": 20,
     "metadata": {},
     "output_type": "execute_result"
    },
    {
     "data": {
      "image/png": "[encoded data removed]",
      "text/plain": [
       "<Figure size 720x432 with 1 Axes>"
      ]
     },
     "metadata": {
      "needs_background": "light"
     },
     "output_type": "display_data"
    }
   ],
   "source": [
    "# Write your code here\n",
    "# visualize the data and the model\n",
    "fig , ax = plt.subplots(figsize=(10, 6))\n",
    "plt.plot(X, y, \"b.\",)\n",
    "plt.plot(X, linreg.predict(X), \"r-\")\n",
    "plt.xlabel(\"R&D Expenditure\", fontsize=18)\n",
    "plt.ylabel(\"profit\", fontsize=18)\n",
    "plt.axis([0, 2, 0, 4])\n",
    "# save_fig(\"generated_data_plot\")"
   ]
  },
  {
   "cell_type": "code",
   "execution_count": 23,
   "metadata": {},
   "outputs": [
    {
     "name": "stdout",
     "output_type": "stream",
     "text": [
      "Intercept:  [-0.00115483]\n",
      "Coefficient:  [[0.94421415]]\n"
     ]
    }
   ],
   "source": [
    "# calculating the intercept and coefficient \n",
    "print(\"Intercept: \", linreg.intercept_)\n",
    "print(\"Coefficient: \", linreg.coef_)"
   ]
  },
  {
   "cell_type": "markdown",
   "metadata": {},
   "source": [
    "# Prediction\n",
    "Now we can make predictions using the weights."
   ]
  },
  {
   "cell_type": "code",
   "execution_count": 21,
   "metadata": {
    "scrolled": true
   },
   "outputs": [
    {
     "data": {
      "text/plain": [
       "array([[ 0.12876307],\n",
       "       [-0.18041772],\n",
       "       [-0.65296841],\n",
       "       [ 0.19000648],\n",
       "       [ 1.00174053],\n",
       "       [-0.65128355],\n",
       "       [ 0.83644218],\n",
       "       [ 0.469002  ],\n",
       "       [-0.74127097],\n",
       "       [-0.65846955],\n",
       "       [ 1.15341795],\n",
       "       [ 1.0427454 ],\n",
       "       [-0.33329281],\n",
       "       [-0.26484309],\n",
       "       [-0.64695977],\n",
       "       [ 0.95990338],\n",
       "       [-0.0612397 ],\n",
       "       [-0.34908577],\n",
       "       [ 0.02639299],\n",
       "       [-0.32543693],\n",
       "       [-1.03139059],\n",
       "       [ 0.15257431],\n",
       "       [-1.27526807],\n",
       "       [-1.16088072],\n",
       "       [ 1.20735357],\n",
       "       [ 1.07006845],\n",
       "       [ 1.39287016],\n",
       "       [ 0.37917697],\n",
       "       [ 0.07285841],\n",
       "       [ 1.02015212],\n",
       "       [ 0.61542187],\n",
       "       [-0.14178788],\n",
       "       [ 1.09942144],\n",
       "       [ 0.52805307],\n",
       "       [-1.27471998],\n",
       "       [-0.71764243],\n",
       "       [-0.87979436],\n",
       "       [-1.06447867],\n",
       "       [-0.06154419],\n",
       "       [ 1.20510033],\n",
       "       [-1.38963512],\n",
       "       [-0.71618087],\n",
       "       [ 0.05440621],\n",
       "       [ 0.53448799],\n",
       "       [ 1.1663081 ],\n",
       "       [ 0.66710424],\n",
       "       [ 0.78510489],\n",
       "       [ 0.45556377],\n",
       "       [ 0.5305905 ],\n",
       "       [-1.05802345],\n",
       "       [-0.1157031 ],\n",
       "       [-1.33823694],\n",
       "       [ 1.23640207],\n",
       "       [ 1.36615609],\n",
       "       [-0.28811579],\n",
       "       [-0.40053511],\n",
       "       [ 1.44167001],\n",
       "       [ 0.40979015],\n",
       "       [ 0.06274928],\n",
       "       [-1.21463364],\n",
       "       [-0.0139014 ],\n",
       "       [-0.69021788],\n",
       "       [ 1.49927983],\n",
       "       [-1.36527579],\n",
       "       [ 1.41863015],\n",
       "       [-0.46509708],\n",
       "       [-1.27352232],\n",
       "       [-1.60543848],\n",
       "       [-0.86412319],\n",
       "       [-0.45013639],\n",
       "       [-0.40827894],\n",
       "       [ 0.36289682],\n",
       "       [ 0.21885199],\n",
       "       [ 1.14178637],\n",
       "       [-0.56054505],\n",
       "       [-0.32919232],\n",
       "       [-0.4243358 ],\n",
       "       [-0.8762722 ],\n",
       "       [-1.26838656],\n",
       "       [ 1.56308097],\n",
       "       [ 1.09136256],\n",
       "       [-1.19238545],\n",
       "       [ 0.99313356],\n",
       "       [ 1.39877729],\n",
       "       [-0.52410755],\n",
       "       [ 1.20505973],\n",
       "       [ 0.94860126],\n",
       "       [-0.47624147],\n",
       "       [ 0.51666508],\n",
       "       [-1.63432458],\n",
       "       [-0.35509441],\n",
       "       [-1.19289294],\n",
       "       [-1.53812553],\n",
       "       [-1.53382205],\n",
       "       [-1.27437489],\n",
       "       [ 1.33412357],\n",
       "       [-0.16147834],\n",
       "       [-0.96101242],\n",
       "       [-0.42163598],\n",
       "       [ 1.17134236],\n",
       "       [ 0.21087431],\n",
       "       [ 0.52740349],\n",
       "       [ 1.06507478],\n",
       "       [-0.21829648],\n",
       "       [-0.28477715],\n",
       "       [-0.02394963],\n",
       "       [-0.01710872],\n",
       "       [ 1.27468681],\n",
       "       [ 0.87129632],\n",
       "       [ 0.37716733],\n",
       "       [-0.97453185],\n",
       "       [ 0.04486548],\n",
       "       [-0.36763946],\n",
       "       [ 1.30801849],\n",
       "       [ 1.13458007],\n",
       "       [-0.96334686],\n",
       "       [-1.06928964],\n",
       "       [-0.46402121],\n",
       "       [-0.64174282],\n",
       "       [ 0.17691334],\n",
       "       [-1.46807216],\n",
       "       [ 1.28520192],\n",
       "       [-0.79078131],\n",
       "       [ 1.1841919 ],\n",
       "       [-0.4644069 ],\n",
       "       [-0.30367592],\n",
       "       [ 1.13650852],\n",
       "       [ 1.10918547],\n",
       "       [-0.90273273],\n",
       "       [ 1.32046205],\n",
       "       [ 1.02965226],\n",
       "       [ 1.57830555],\n",
       "       [ 0.27924282],\n",
       "       [-0.56007816],\n",
       "       [-0.43470882],\n",
       "       [-1.03490239],\n",
       "       [ 0.25258966],\n",
       "       [ 0.64455156],\n",
       "       [-0.34633094],\n",
       "       [-0.32119434],\n",
       "       [-1.20879268],\n",
       "       [ 0.87777184],\n",
       "       [-0.72162112],\n",
       "       [-0.22728913],\n",
       "       [-1.24733604],\n",
       "       [-0.56320428],\n",
       "       [ 0.80907853],\n",
       "       [-1.55935875],\n",
       "       [ 1.22643504],\n",
       "       [ 1.19566109],\n",
       "       [-1.57399464],\n",
       "       [ 0.19349798],\n",
       "       [-0.69602352],\n",
       "       [ 0.30437353],\n",
       "       [ 0.7158229 ],\n",
       "       [ 1.57134284],\n",
       "       [-0.43144061],\n",
       "       [ 0.50054733],\n",
       "       [ 0.94620126],\n",
       "       [-1.30384968],\n",
       "       [ 1.49885354],\n",
       "       [ 1.31650366],\n",
       "       [ 1.47163199],\n",
       "       [-0.36703048],\n",
       "       [-0.97952551],\n",
       "       [ 1.06024352],\n",
       "       [-0.58827409],\n",
       "       [-0.12778127],\n",
       "       [ 0.11794346],\n",
       "       [ 1.46927725],\n",
       "       [ 1.27754903],\n",
       "       [-0.98868056],\n",
       "       [ 0.47917202],\n",
       "       [-0.77531314],\n",
       "       [-0.04292961],\n",
       "       [-0.65605392],\n",
       "       [ 1.08176092],\n",
       "       [ 0.93830477],\n",
       "       [ 0.52547504],\n",
       "       [-1.11995705],\n",
       "       [-1.4484426 ],\n",
       "       [-1.47501457],\n",
       "       [-0.25995093],\n",
       "       [-1.51786669],\n",
       "       [ 0.75244309],\n",
       "       [ 1.29484416],\n",
       "       [-0.92804613],\n",
       "       [-1.53514151],\n",
       "       [ 0.94252706],\n",
       "       [-0.8856    ],\n",
       "       [-1.00662527],\n",
       "       [-1.30945233],\n",
       "       [-1.46987881],\n",
       "       [-0.58892367],\n",
       "       [-1.03553167],\n",
       "       [-1.31982534],\n",
       "       [ 0.39779156],\n",
       "       [-0.02731934],\n",
       "       [ 0.46009054],\n",
       "       [-1.07576516]])"
      ]
     },
     "execution_count": 21,
     "metadata": {},
     "output_type": "execute_result"
    }
   ],
   "source": [
    "# Write your code here\n",
    "# predicting using weights\n",
    "y_pred = linreg.predict(X_test)\n",
    "y_pred"
   ]
  },
  {
   "cell_type": "markdown",
   "metadata": {},
   "source": [
    "# Evaluation\n",
    "Best possible $R^{2}$ score  is 1.0. <br>"
   ]
  },
  {
   "cell_type": "code",
   "execution_count": 22,
   "metadata": {},
   "outputs": [
    {
     "name": "stdout",
     "output_type": "stream",
     "text": [
      "The R squared value is:  0.9134554891584079\n"
     ]
    }
   ],
   "source": [
    "# Calculating the R squared value\n",
    "# Write your code here\n",
    "from sklearn.metrics import r2_score\n",
    "print(\"The R squared value is: \", r2_score(y_test, y_pred))"
   ]
  },
  {
   "cell_type": "markdown",
   "metadata": {},
   "source": [
    "# Linear regression using gradient descent\n",
    "Solve the same problem with gradient descent algorithm"
   ]
  },
  {
   "cell_type": "code",
   "execution_count": 24,
   "metadata": {},
   "outputs": [
    {
     "data": {
      "text/html": [
       "<style>#sk-container-id-2 {color: black;background-color: white;}#sk-container-id-2 pre{padding: 0;}#sk-container-id-2 div.sk-toggleable {background-color: white;}#sk-container-id-2 label.sk-toggleable__label {cursor: pointer;display: block;width: 100%;margin-bottom: 0;padding: 0.3em;box-sizing: border-box;text-align: center;}#sk-container-id-2 label.sk-toggleable__label-arrow:before {content: \"▸\";float: left;margin-right: 0.25em;color: #696969;}#sk-container-id-2 label.sk-toggleable__label-arrow:hover:before {color: black;}#sk-container-id-2 div.sk-estimator:hover label.sk-toggleable__label-arrow:before {color: black;}#sk-container-id-2 div.sk-toggleable__content {max-height: 0;max-width: 0;overflow: hidden;text-align: left;background-color: #f0f8ff;}#sk-container-id-2 div.sk-toggleable__content pre {margin: 0.2em;color: black;border-radius: 0.25em;background-color: #f0f8ff;}#sk-container-id-2 input.sk-toggleable__control:checked~div.sk-toggleable__content {max-height: 200px;max-width: 100%;overflow: auto;}#sk-container-id-2 input.sk-toggleable__control:checked~label.sk-toggleable__label-arrow:before {content: \"▾\";}#sk-container-id-2 div.sk-estimator input.sk-toggleable__control:checked~label.sk-toggleable__label {background-color: #d4ebff;}#sk-container-id-2 div.sk-label input.sk-toggleable__control:checked~label.sk-toggleable__label {background-color: #d4ebff;}#sk-container-id-2 input.sk-hidden--visually {border: 0;clip: rect(1px 1px 1px 1px);clip: rect(1px, 1px, 1px, 1px);height: 1px;margin: -1px;overflow: hidden;padding: 0;position: absolute;width: 1px;}#sk-container-id-2 div.sk-estimator {font-family: monospace;background-color: #f0f8ff;border: 1px dotted black;border-radius: 0.25em;box-sizing: border-box;margin-bottom: 0.5em;}#sk-container-id-2 div.sk-estimator:hover {background-color: #d4ebff;}#sk-container-id-2 div.sk-parallel-item::after {content: \"\";width: 100%;border-bottom: 1px solid gray;flex-grow: 1;}#sk-container-id-2 div.sk-label:hover label.sk-toggleable__label {background-color: #d4ebff;}#sk-container-id-2 div.sk-serial::before {content: \"\";position: absolute;border-left: 1px solid gray;box-sizing: border-box;top: 0;bottom: 0;left: 50%;z-index: 0;}#sk-container-id-2 div.sk-serial {display: flex;flex-direction: column;align-items: center;background-color: white;padding-right: 0.2em;padding-left: 0.2em;position: relative;}#sk-container-id-2 div.sk-item {position: relative;z-index: 1;}#sk-container-id-2 div.sk-parallel {display: flex;align-items: stretch;justify-content: center;background-color: white;position: relative;}#sk-container-id-2 div.sk-item::before, #sk-container-id-2 div.sk-parallel-item::before {content: \"\";position: absolute;border-left: 1px solid gray;box-sizing: border-box;top: 0;bottom: 0;left: 50%;z-index: -1;}#sk-container-id-2 div.sk-parallel-item {display: flex;flex-direction: column;z-index: 1;position: relative;background-color: white;}#sk-container-id-2 div.sk-parallel-item:first-child::after {align-self: flex-end;width: 50%;}#sk-container-id-2 div.sk-parallel-item:last-child::after {align-self: flex-start;width: 50%;}#sk-container-id-2 div.sk-parallel-item:only-child::after {width: 0;}#sk-container-id-2 div.sk-dashed-wrapped {border: 1px dashed gray;margin: 0 0.4em 0.5em 0.4em;box-sizing: border-box;padding-bottom: 0.4em;background-color: white;}#sk-container-id-2 div.sk-label label {font-family: monospace;font-weight: bold;display: inline-block;line-height: 1.2em;}#sk-container-id-2 div.sk-label-container {text-align: center;}#sk-container-id-2 div.sk-container {/* jupyter's `normalize.less` sets `[hidden] { display: none; }` but bootstrap.min.css set `[hidden] { display: none !important; }` so we also need the `!important` here to be able to override the default hidden behavior on the sphinx rendered scikit-learn.org. See: https://github.com/scikit-learn/scikit-learn/issues/21755 */display: inline-block !important;position: relative;}#sk-container-id-2 div.sk-text-repr-fallback {display: none;}</style><div id=\"sk-container-id-2\" class=\"sk-top-container\"><div class=\"sk-text-repr-fallback\"><pre>SGDRegressor(eta0=0.1, penalty=None)</pre><b>In a Jupyter environment, please rerun this cell to show the HTML representation or trust the notebook. <br />On GitHub, the HTML representation is unable to render, please try loading this page with nbviewer.org.</b></div><div class=\"sk-container\" hidden><div class=\"sk-item\"><div class=\"sk-estimator sk-toggleable\"><input class=\"sk-toggleable__control sk-hidden--visually\" id=\"sk-estimator-id-2\" type=\"checkbox\" checked><label for=\"sk-estimator-id-2\" class=\"sk-toggleable__label sk-toggleable__label-arrow\">SGDRegressor</label><div class=\"sk-toggleable__content\"><pre>SGDRegressor(eta0=0.1, penalty=None)</pre></div></div></div></div></div>"
      ],
      "text/plain": [
       "SGDRegressor(eta0=0.1, penalty=None)"
      ]
     },
     "execution_count": 24,
     "metadata": {},
     "output_type": "execute_result"
    }
   ],
   "source": [
    "# Write your code here\n",
    "# linear regression with gradient descent\n",
    "from sklearn.linear_model import SGDRegressor\n",
    "sgd_reg = SGDRegressor(max_iter=1000, tol=1e-3, penalty=None, eta0=0.1, alpha=0.2)\n",
    "sgd_reg.fit(X_train, y_train.ravel())"
   ]
  },
  {
   "cell_type": "code",
   "execution_count": 29,
   "metadata": {},
   "outputs": [
    {
     "name": "stdout",
     "output_type": "stream",
     "text": [
      "Intercept:  [-0.01472569]\n",
      "Coefficient:  [0.92663399]\n"
     ]
    }
   ],
   "source": [
    "# Getting the intercept and coefficient of the model\n",
    "print(\"Intercept: \", sgd_reg.intercept_)\n",
    "print(\"Coefficient: \", sgd_reg.coef_)"
   ]
  },
  {
   "cell_type": "markdown",
   "metadata": {},
   "source": [
    "Print out the weight values"
   ]
  },
  {
   "cell_type": "code",
   "execution_count": 27,
   "metadata": {},
   "outputs": [
    {
     "name": "stdout",
     "output_type": "stream",
     "text": [
      "[ 0.11277329 -0.19065091 -0.65440326  0.17287642  0.96949694 -0.65274978\n",
      "  0.80727625  0.44667737 -0.74106174 -0.65980198  1.1183503   1.00973834\n",
      " -0.34067965 -0.27350439 -0.6485065   0.92843875 -0.07369185 -0.35617857\n",
      "  0.01230922 -0.33297003 -1.02577966  0.1361412  -1.26511644 -1.15285884\n",
      "  1.1712817   1.03655267  1.35334419  0.35852478  0.05790951  0.98756573\n",
      "  0.59037107 -0.15274032  1.06535914  0.50462898 -1.26457856 -0.71787313\n",
      " -0.87700598 -1.05825169 -0.07399067  1.16907042 -1.37735411 -0.71643878\n",
      "  0.03980088  0.5109441   1.13100045  0.64109119  0.7568948   0.43348935\n",
      "  0.50711917 -1.05191666 -0.1271412  -1.3269129   1.19978935  1.32712751\n",
      " -0.29634378 -0.40666998  1.40123545  0.38856798  0.04798861 -1.20561095\n",
      " -0.02723494 -0.69095919  1.45777264 -1.35344832  1.37862456 -0.47002988\n",
      " -1.26340319 -1.58913946 -0.86162659 -0.45534774 -0.41426963  0.34254775\n",
      "  0.20118486  1.10693529 -0.56370072 -0.33665551 -0.43002753 -0.8735494\n",
      " -1.25836305  1.52038588  1.05745031 -1.183777    0.96105023  1.35914135\n",
      " -0.52794165  1.16903057  0.91734706 -0.48096678  0.49345303 -1.61748774\n",
      " -0.36207533 -1.18427503 -1.5230798  -1.51885645 -1.26423989  1.2956914\n",
      " -0.17206416 -0.95671186 -0.42737797  1.13594098  0.19335571  0.5039915\n",
      "  1.03165198 -0.22782441 -0.29306729 -0.03709607 -0.03038253  1.23736128\n",
      "  0.84148145  0.35655255 -0.96997957  0.03043778 -0.37438681  1.27007237\n",
      "  1.09986316 -0.95900283 -1.06297308 -0.46897404 -0.64338668  0.16002706\n",
      " -1.45433074  1.24768061 -0.78965025  1.14855128 -0.46935255 -0.3116142\n",
      "  1.1017557   1.07494138 -0.89951727  1.28228424  0.99688898  1.535327\n",
      "  0.26045129 -0.56324253 -0.44020741 -1.02922608  0.23429438  0.61895841\n",
      " -0.35347502 -0.32880644 -1.19987874  0.8478364  -0.72177774 -0.23664963\n",
      " -1.23770447 -0.56631044  0.78042208 -1.54391768  1.1900079   1.15980692\n",
      " -1.55828107  0.17630292 -0.69665674  0.28511409  0.68890276  1.52849393\n",
      " -0.43700005  0.47763537  0.91499174 -1.29316589  1.45735429  1.27839955\n",
      "  1.43063957 -0.37378916 -0.97488026  1.02691067 -0.59091347 -0.13899449\n",
      "  0.10215514  1.42832868  1.24017021 -0.98386485  0.45665804 -0.77447008\n",
      " -0.05572267 -0.65743133  1.04802745  0.90724228  0.50209896 -1.11269712\n",
      " -1.43506666 -1.46114389 -0.26870331 -1.50319815  0.72484113  1.25714332\n",
      " -0.92435936 -1.52015134  0.91138595 -0.88270353 -1.00147545 -1.29866422\n",
      " -1.45610375 -0.59155096 -1.02984365 -1.30884411  0.37679279 -0.04040304\n",
      "  0.43793184 -1.06932804]\n"
     ]
    }
   ],
   "source": [
    "# Write your code here\n",
    "y_pred_SGD = sgd_reg.predict(X_test)\n",
    "print(y_pred_SGD)"
   ]
  },
  {
   "cell_type": "markdown",
   "metadata": {},
   "source": [
    "## Evaluation"
   ]
  },
  {
   "cell_type": "code",
   "execution_count": 32,
   "metadata": {},
   "outputs": [
    {
     "data": {
      "image/png": "[encoded data removed]",
      "text/plain": [
       "<Figure size 720x432 with 1 Axes>"
      ]
     },
     "metadata": {
      "needs_background": "light"
     },
     "output_type": "display_data"
    }
   ],
   "source": [
    "# Write your code here\n",
    "# visualize the data and the model\n",
    "fig , ax = plt.subplots(figsize=(10, 6))\n",
    "plt.plot(X, y, \"b.\",)\n",
    "plt.plot(X, sgd_reg.predict(X), \"r-\")\n",
    "plt.xlabel(\"R&D Expenditure\", fontsize=18)\n",
    "plt.ylabel(\"profit\", fontsize=18)\n",
    "plt.axis([0, 2, 0, 4])\n",
    "# save_fig(\"generated_data_plot\")\n",
    "plt.show()"
   ]
  },
  {
   "cell_type": "code",
   "execution_count": 28,
   "metadata": {},
   "outputs": [
    {
     "name": "stdout",
     "output_type": "stream",
     "text": [
      "The R squared value is:  0.9126105745155131\n"
     ]
    }
   ],
   "source": [
    "# Calculating the R squared value\n",
    "print(\"The R squared value is: \", r2_score(y_test, y_pred_SGD))"
   ]
  },
  {
   "cell_type": "markdown",
   "metadata": {},
   "source": [
    "### Question 7"
   ]
  },
  {
   "cell_type": "markdown",
   "metadata": {},
   "source": [
    "The R squared value is 0.91 meaning that 91% of the variance in the dependent variable is explained by the independent variable.i.e., 91% variability in R&D is due to variation in the profit while we can't say about the 9% variations . This is a good result."
   ]
  },
  {
   "cell_type": "markdown",
   "metadata": {},
   "source": [
    "R squared is an increasing function of the number of independent variables i.e, with the inclusion of one more independent variable R2 is likely to increase or at least will not decrease hence some ways to improve the R squared value is to include more independent variables/features."
   ]
  },
  {
   "cell_type": "code",
   "execution_count": 39,
   "metadata": {},
   "outputs": [
    {
     "data": {
      "image/png": "[encoded data removed]",
      "text/plain": [
       "<Figure size 720x432 with 1 Axes>"
      ]
     },
     "metadata": {
      "needs_background": "light"
     },
     "output_type": "display_data"
    },
    {
     "name": "stdout",
     "output_type": "stream",
     "text": [
      "The R squared value is:  0.8935566323040345\n"
     ]
    }
   ],
   "source": [
    "# code to try improve the R squared value by adding more features\n",
    "# Write your code here\n",
    "from sklearn.preprocessing import PolynomialFeatures\n",
    "poly_features = PolynomialFeatures(degree=2, include_bias=False)\n",
    "X_poly = poly_features.fit_transform(X)\n",
    "X_poly\n",
    "\n",
    "# Write your code here\n",
    "# fitting the data to the model\n",
    "lin_reg = LinearRegression()\n",
    "lin_reg.fit(X_poly, y)\n",
    "\n",
    "# Write your code here\n",
    "# visualizing the data and the model\n",
    "fig , ax = plt.subplots(figsize=(10, 6))\n",
    "plt.plot(X, y, \"b.\",)\n",
    "plt.plot(X, lin_reg.predict(X_poly), \"r-\")\n",
    "plt.xlabel(\"R&D Expenditure\", fontsize=18)\n",
    "plt.ylabel(\"profit\", fontsize=18)\n",
    "plt.axis([0, 2, 0, 4])\n",
    "# save_fig(\"generated_data_plot\")\n",
    "plt.show()\n",
    "\n",
    "# Write your code here\n",
    "# predicting using weights\n",
    "y_pred_poly = lin_reg.predict(X_poly)\n",
    "\n",
    "# Write your code here\n",
    "# Calculating the R squared value\n",
    "print(\"The R squared value is: \", r2_score(y, y_pred_poly))\n"
   ]
  },
  {
   "cell_type": "markdown",
   "metadata": {},
   "source": [
    "Well adding more features did not improve the R squared value. This is because the data is not linearly separable. Hence we need to use a non-linear model to improve the R squared value."
   ]
  }
 ],
 "metadata": {
  "kernelspec": {
   "display_name": "Python 3.10.1 64-bit",
   "language": "python",
   "name": "python3"
  },
  "language_info": {
   "codemirror_mode": {
    "name": "ipython",
    "version": 3
   },
   "file_extension": ".py",
   "mimetype": "text/x-python",
   "name": "python",
   "nbconvert_exporter": "python",
   "pygments_lexer": "ipython3",
   "version": "3.10.1"
  },
  "vscode": {
   "interpreter": {
    "hash": "aee8b7b246df8f9039afb4144a1f6fd8d2ca17a180786b69acc140d282b71a49"
   }
  }
 },
 "nbformat": 4,
 "nbformat_minor": 4
}
