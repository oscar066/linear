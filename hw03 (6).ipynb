{
 "cells": [
  {
   "cell_type": "markdown",
   "metadata": {},
   "source": [
    "# Setup\n",
    "\n",
    "First, let's import a few common modules, ensure MatplotLib plots figures inline and prepare a function to save the figures. We also check that Python 3.5 or later is installed, as well as Scikit-Learn ≥0.20. You don't need to change any code in the following cell, just run it."
   ]
  },
  {
   "cell_type": "code",
   "execution_count": 1,
   "metadata": {},
   "outputs": [],
   "source": [
    "# Python ≥3.5 is required\n",
    "import sys\n",
    "assert sys.version_info >= (3, 5)\n",
    "\n",
    "# Scikit-Learn ≥0.20 is required\n",
    "import sklearn\n",
    "assert sklearn.__version__ >= \"0.20\"\n",
    "\n",
    "# Common imports\n",
    "import numpy as np\n",
    "import os\n",
    "from sklearn import preprocessing\n",
    "# to make this notebook's output stable across runs\n",
    "np.random.seed(42)\n",
    "\n",
    "# To plot pretty figures\n",
    "%matplotlib inline\n",
    "import matplotlib as mpl\n",
    "import matplotlib.pyplot as plt\n",
    "mpl.rc('axes', labelsize=14)\n",
    "mpl.rc('xtick', labelsize=12)\n",
    "mpl.rc('ytick', labelsize=12)\n",
    "\n",
    "# Where to save the figures\n",
    "PROJECT_ROOT_DIR = \".\"\n",
    "CHAPTER_ID = \"training_linear_models\"\n",
    "IMAGES_PATH = os.path.join(PROJECT_ROOT_DIR, \"images\", CHAPTER_ID)\n",
    "os.makedirs(IMAGES_PATH, exist_ok=True)\n",
    "\n",
    "def save_fig(fig_id, tight_layout=True, fig_extension=\"png\", resolution=300):\n",
    "    path = os.path.join(IMAGES_PATH, fig_id + \".\" + fig_extension)\n",
    "    print(\"Saving figure\", fig_id)\n",
    "    if tight_layout:\n",
    "        plt.tight_layout()\n",
    "    plt.savefig(path, format=fig_extension, dpi=resolution)"
   ]
  },
  {
   "cell_type": "markdown",
   "metadata": {},
   "source": [
    "# Read the dataset "
   ]
  },
  {
   "cell_type": "code",
   "execution_count": 2,
   "metadata": {},
   "outputs": [],
   "source": [
    "# fields are separated by comma and skip the first row (titles) when reading\n",
    "data = np.loadtxt(\"hw03_data.txt\", skiprows=1, dtype = \"float\", delimiter=\",\")\n",
    "\n",
    "# Scale the data with sklearn StandardScaler\n",
    "# Write your code here\n",
    "scaler = preprocessing.StandardScaler()\n",
    "scaler.fit(data)\n",
    "data = scaler.transform(data)\n",
    "\n",
    "X = data[:, [0]]\n",
    "y = data[:, [1]]"
   ]
  },
  {
   "cell_type": "markdown",
   "metadata": {},
   "source": [
    "# Visualize the dataset"
   ]
  },
  {
   "cell_type": "code",
   "execution_count": 3,
   "metadata": {
    "scrolled": true
   },
   "outputs": [
    {
     "name": "stdout",
     "output_type": "stream",
     "text": [
      "Saving figure generated_data_plot\n"
     ]
    },
    {
     "data": {
      "image/png": "[encoded data removed]",
      "text/plain": [
       "<Figure size 432x288 with 1 Axes>"
      ]
     },
     "metadata": {
      "needs_background": "light"
     },
     "output_type": "display_data"
    }
   ],
   "source": [
    "# Write your code here\n",
    "plt.plot(X, y, \"b.\")\n",
    "plt.xlabel(\"R&D spend\", fontsize=18)\n",
    "plt.ylabel(\"profit\", rotation=0, fontsize=18)\n",
    "plt.axis([0, 2, 0, 4])\n",
    "save_fig(\"generated_data_plot\")\n",
    "plt.show()"
   ]
  },
  {
   "cell_type": "markdown",
   "metadata": {},
   "source": [
    "# Training with scikit_learn Linear Regression \n",
    "\n"
   ]
  },
  {
   "cell_type": "code",
   "execution_count": 4,
   "metadata": {},
   "outputs": [],
   "source": [
    "# Write your code here\n",
    "# Splitting the dataset into the Training set and Test set\n",
    "from sklearn.model_selection import train_test_split\n",
    "X_train, X_test, y_train, y_test = train_test_split(X, y, test_size = 0.20, random_state = 42)"
   ]
  },
  {
   "cell_type": "code",
   "execution_count": 5,
   "metadata": {},
   "outputs": [
    {
     "data": {
      "text/plain": [
       "LinearRegression()"
      ]
     },
     "execution_count": 5,
     "metadata": {},
     "output_type": "execute_result"
    }
   ],
   "source": [
    "# Fitting Linear Regression to the Training set\n",
    "from sklearn.linear_model import LinearRegression\n",
    "\n",
    "lin_reg = LinearRegression()\n",
    "lin_reg.fit(X_train, y_train)"
   ]
  },
  {
   "cell_type": "code",
   "execution_count": 6,
   "metadata": {},
   "outputs": [
    {
     "data": {
      "text/plain": [
       "(array([-0.00115483]), array([[0.94421415]]))"
      ]
     },
     "execution_count": 6,
     "metadata": {},
     "output_type": "execute_result"
    }
   ],
   "source": [
    "# Calculating the Intercept and the Coefficient\n",
    "lin_reg.intercept_, lin_reg.coef_"
   ]
  },
  {
   "cell_type": "markdown",
   "metadata": {},
   "source": [
    "# Prediction\n",
    "Now we can make predictions using the weights."
   ]
  },
  {
   "cell_type": "code",
   "execution_count": 7,
   "metadata": {
    "scrolled": true
   },
   "outputs": [
    {
     "data": {
      "text/plain": [
       "array([[ 0.12876307],\n",
       "       [-0.18041772],\n",
       "       [-0.65296841],\n",
       "       [ 0.19000648],\n",
       "       [ 1.00174053],\n",
       "       [-0.65128355],\n",
       "       [ 0.83644218],\n",
       "       [ 0.469002  ],\n",
       "       [-0.74127097],\n",
       "       [-0.65846955],\n",
       "       [ 1.15341795],\n",
       "       [ 1.0427454 ],\n",
       "       [-0.33329281],\n",
       "       [-0.26484309],\n",
       "       [-0.64695977],\n",
       "       [ 0.95990338],\n",
       "       [-0.0612397 ],\n",
       "       [-0.34908577],\n",
       "       [ 0.02639299],\n",
       "       [-0.32543693],\n",
       "       [-1.03139059],\n",
       "       [ 0.15257431],\n",
       "       [-1.27526807],\n",
       "       [-1.16088072],\n",
       "       [ 1.20735357],\n",
       "       [ 1.07006845],\n",
       "       [ 1.39287016],\n",
       "       [ 0.37917697],\n",
       "       [ 0.07285841],\n",
       "       [ 1.02015212],\n",
       "       [ 0.61542187],\n",
       "       [-0.14178788],\n",
       "       [ 1.09942144],\n",
       "       [ 0.52805307],\n",
       "       [-1.27471998],\n",
       "       [-0.71764243],\n",
       "       [-0.87979436],\n",
       "       [-1.06447867],\n",
       "       [-0.06154419],\n",
       "       [ 1.20510033],\n",
       "       [-1.38963512],\n",
       "       [-0.71618087],\n",
       "       [ 0.05440621],\n",
       "       [ 0.53448799],\n",
       "       [ 1.1663081 ],\n",
       "       [ 0.66710424],\n",
       "       [ 0.78510489],\n",
       "       [ 0.45556377],\n",
       "       [ 0.5305905 ],\n",
       "       [-1.05802345],\n",
       "       [-0.1157031 ],\n",
       "       [-1.33823694],\n",
       "       [ 1.23640207],\n",
       "       [ 1.36615609],\n",
       "       [-0.28811579],\n",
       "       [-0.40053511],\n",
       "       [ 1.44167001],\n",
       "       [ 0.40979015],\n",
       "       [ 0.06274928],\n",
       "       [-1.21463364],\n",
       "       [-0.0139014 ],\n",
       "       [-0.69021788],\n",
       "       [ 1.49927983],\n",
       "       [-1.36527579],\n",
       "       [ 1.41863015],\n",
       "       [-0.46509708],\n",
       "       [-1.27352232],\n",
       "       [-1.60543848],\n",
       "       [-0.86412319],\n",
       "       [-0.45013639],\n",
       "       [-0.40827894],\n",
       "       [ 0.36289682],\n",
       "       [ 0.21885199],\n",
       "       [ 1.14178637],\n",
       "       [-0.56054505],\n",
       "       [-0.32919232],\n",
       "       [-0.4243358 ],\n",
       "       [-0.8762722 ],\n",
       "       [-1.26838656],\n",
       "       [ 1.56308097],\n",
       "       [ 1.09136256],\n",
       "       [-1.19238545],\n",
       "       [ 0.99313356],\n",
       "       [ 1.39877729],\n",
       "       [-0.52410755],\n",
       "       [ 1.20505973],\n",
       "       [ 0.94860126],\n",
       "       [-0.47624147],\n",
       "       [ 0.51666508],\n",
       "       [-1.63432458],\n",
       "       [-0.35509441],\n",
       "       [-1.19289294],\n",
       "       [-1.53812553],\n",
       "       [-1.53382205],\n",
       "       [-1.27437489],\n",
       "       [ 1.33412357],\n",
       "       [-0.16147834],\n",
       "       [-0.96101242],\n",
       "       [-0.42163598],\n",
       "       [ 1.17134236],\n",
       "       [ 0.21087431],\n",
       "       [ 0.52740349],\n",
       "       [ 1.06507478],\n",
       "       [-0.21829648],\n",
       "       [-0.28477715],\n",
       "       [-0.02394963],\n",
       "       [-0.01710872],\n",
       "       [ 1.27468681],\n",
       "       [ 0.87129632],\n",
       "       [ 0.37716733],\n",
       "       [-0.97453185],\n",
       "       [ 0.04486548],\n",
       "       [-0.36763946],\n",
       "       [ 1.30801849],\n",
       "       [ 1.13458007],\n",
       "       [-0.96334686],\n",
       "       [-1.06928964],\n",
       "       [-0.46402121],\n",
       "       [-0.64174282],\n",
       "       [ 0.17691334],\n",
       "       [-1.46807216],\n",
       "       [ 1.28520192],\n",
       "       [-0.79078131],\n",
       "       [ 1.1841919 ],\n",
       "       [-0.4644069 ],\n",
       "       [-0.30367592],\n",
       "       [ 1.13650852],\n",
       "       [ 1.10918547],\n",
       "       [-0.90273273],\n",
       "       [ 1.32046205],\n",
       "       [ 1.02965226],\n",
       "       [ 1.57830555],\n",
       "       [ 0.27924282],\n",
       "       [-0.56007816],\n",
       "       [-0.43470882],\n",
       "       [-1.03490239],\n",
       "       [ 0.25258966],\n",
       "       [ 0.64455156],\n",
       "       [-0.34633094],\n",
       "       [-0.32119434],\n",
       "       [-1.20879268],\n",
       "       [ 0.87777184],\n",
       "       [-0.72162112],\n",
       "       [-0.22728913],\n",
       "       [-1.24733604],\n",
       "       [-0.56320428],\n",
       "       [ 0.80907853],\n",
       "       [-1.55935875],\n",
       "       [ 1.22643504],\n",
       "       [ 1.19566109],\n",
       "       [-1.57399464],\n",
       "       [ 0.19349798],\n",
       "       [-0.69602352],\n",
       "       [ 0.30437353],\n",
       "       [ 0.7158229 ],\n",
       "       [ 1.57134284],\n",
       "       [-0.43144061],\n",
       "       [ 0.50054733],\n",
       "       [ 0.94620126],\n",
       "       [-1.30384968],\n",
       "       [ 1.49885354],\n",
       "       [ 1.31650366],\n",
       "       [ 1.47163199],\n",
       "       [-0.36703048],\n",
       "       [-0.97952551],\n",
       "       [ 1.06024352],\n",
       "       [-0.58827409],\n",
       "       [-0.12778127],\n",
       "       [ 0.11794346],\n",
       "       [ 1.46927725],\n",
       "       [ 1.27754903],\n",
       "       [-0.98868056],\n",
       "       [ 0.47917202],\n",
       "       [-0.77531314],\n",
       "       [-0.04292961],\n",
       "       [-0.65605392],\n",
       "       [ 1.08176092],\n",
       "       [ 0.93830477],\n",
       "       [ 0.52547504],\n",
       "       [-1.11995705],\n",
       "       [-1.4484426 ],\n",
       "       [-1.47501457],\n",
       "       [-0.25995093],\n",
       "       [-1.51786669],\n",
       "       [ 0.75244309],\n",
       "       [ 1.29484416],\n",
       "       [-0.92804613],\n",
       "       [-1.53514151],\n",
       "       [ 0.94252706],\n",
       "       [-0.8856    ],\n",
       "       [-1.00662527],\n",
       "       [-1.30945233],\n",
       "       [-1.46987881],\n",
       "       [-0.58892367],\n",
       "       [-1.03553167],\n",
       "       [-1.31982534],\n",
       "       [ 0.39779156],\n",
       "       [-0.02731934],\n",
       "       [ 0.46009054],\n",
       "       [-1.07576516]])"
      ]
     },
     "execution_count": 7,
     "metadata": {},
     "output_type": "execute_result"
    }
   ],
   "source": [
    "# Write your code here\n",
    "# Predicting the Test set results\n",
    "y_pred = lin_reg.predict(X_test)\n",
    "y_pred"
   ]
  },
  {
   "cell_type": "markdown",
   "metadata": {},
   "source": [
    "# Evaluation\n",
    "Best possible $R^{2}$ score  is 1.0. <br>"
   ]
  },
  {
   "cell_type": "code",
   "execution_count": 8,
   "metadata": {},
   "outputs": [
    {
     "data": {
      "text/plain": [
       "0.9134554891584079"
      ]
     },
     "execution_count": 8,
     "metadata": {},
     "output_type": "execute_result"
    }
   ],
   "source": [
    "# Calculating the R squared value\n",
    "# Write your code here\n",
    "from sklearn.metrics import r2_score\n",
    "r2_score(y_test, y_pred)"
   ]
  },
  {
   "cell_type": "code",
   "execution_count": 9,
   "metadata": {},
   "outputs": [],
   "source": [
    "X_new = np.array([[0], [2]])\n",
    "y_predict = lin_reg.predict(X_new)"
   ]
  },
  {
   "cell_type": "markdown",
   "metadata": {},
   "source": [
    "# Linear regression using gradient descent\n",
    "Solve the same problem with gradient descent algorithm"
   ]
  },
  {
   "cell_type": "code",
   "execution_count": 10,
   "metadata": {},
   "outputs": [],
   "source": [
    "# Write your code here\n",
    "alpha = 0.2  # learning rate\n",
    "n_iterations = 800\n",
    "m = 800\n",
    "\n",
    "weight = np.random.randn(2,1)  # random initialization\n",
    "\n",
    "X_b = np.c_[np.ones((800, 1)), X_train]  # add x0 = 1 to each instance\n",
    "\n",
    "for iteration in range(n_iterations):\n",
    "    gradients = 1/m * X_b.T.dot(X_b.dot(weight) - y_train)\n",
    "    weight = weight - alpha * gradients\n"
   ]
  },
  {
   "cell_type": "markdown",
   "metadata": {},
   "source": [
    "# weight values"
   ]
  },
  {
   "cell_type": "code",
   "execution_count": 11,
   "metadata": {},
   "outputs": [
    {
     "name": "stdout",
     "output_type": "stream",
     "text": [
      "[[-0.00115483]\n",
      " [ 0.94421415]]\n"
     ]
    }
   ],
   "source": [
    "# Write your code here\n",
    "print(weight)\n"
   ]
  },
  {
   "cell_type": "markdown",
   "metadata": {},
   "source": [
    "# predictions"
   ]
  },
  {
   "cell_type": "code",
   "execution_count": 12,
   "metadata": {},
   "outputs": [
    {
     "name": "stdout",
     "output_type": "stream",
     "text": [
      "[[ 0.12876307]\n",
      " [-0.18041772]\n",
      " [-0.65296841]\n",
      " [ 0.19000648]\n",
      " [ 1.00174053]\n",
      " [-0.65128355]\n",
      " [ 0.83644218]\n",
      " [ 0.469002  ]\n",
      " [-0.74127097]\n",
      " [-0.65846955]\n",
      " [ 1.15341795]\n",
      " [ 1.0427454 ]\n",
      " [-0.33329281]\n",
      " [-0.26484309]\n",
      " [-0.64695977]\n",
      " [ 0.95990338]\n",
      " [-0.0612397 ]\n",
      " [-0.34908577]\n",
      " [ 0.02639299]\n",
      " [-0.32543693]\n",
      " [-1.03139059]\n",
      " [ 0.15257431]\n",
      " [-1.27526807]\n",
      " [-1.16088072]\n",
      " [ 1.20735357]\n",
      " [ 1.07006845]\n",
      " [ 1.39287016]\n",
      " [ 0.37917697]\n",
      " [ 0.07285841]\n",
      " [ 1.02015212]\n",
      " [ 0.61542187]\n",
      " [-0.14178788]\n",
      " [ 1.09942144]\n",
      " [ 0.52805307]\n",
      " [-1.27471998]\n",
      " [-0.71764243]\n",
      " [-0.87979436]\n",
      " [-1.06447867]\n",
      " [-0.06154419]\n",
      " [ 1.20510033]\n",
      " [-1.38963512]\n",
      " [-0.71618087]\n",
      " [ 0.05440621]\n",
      " [ 0.53448799]\n",
      " [ 1.1663081 ]\n",
      " [ 0.66710424]\n",
      " [ 0.78510489]\n",
      " [ 0.45556377]\n",
      " [ 0.5305905 ]\n",
      " [-1.05802345]\n",
      " [-0.1157031 ]\n",
      " [-1.33823694]\n",
      " [ 1.23640207]\n",
      " [ 1.36615609]\n",
      " [-0.28811579]\n",
      " [-0.40053511]\n",
      " [ 1.44167001]\n",
      " [ 0.40979015]\n",
      " [ 0.06274928]\n",
      " [-1.21463364]\n",
      " [-0.0139014 ]\n",
      " [-0.69021788]\n",
      " [ 1.49927983]\n",
      " [-1.36527579]\n",
      " [ 1.41863015]\n",
      " [-0.46509708]\n",
      " [-1.27352232]\n",
      " [-1.60543848]\n",
      " [-0.86412319]\n",
      " [-0.45013639]\n",
      " [-0.40827894]\n",
      " [ 0.36289682]\n",
      " [ 0.21885199]\n",
      " [ 1.14178637]\n",
      " [-0.56054505]\n",
      " [-0.32919232]\n",
      " [-0.4243358 ]\n",
      " [-0.8762722 ]\n",
      " [-1.26838656]\n",
      " [ 1.56308097]\n",
      " [ 1.09136256]\n",
      " [-1.19238545]\n",
      " [ 0.99313356]\n",
      " [ 1.39877729]\n",
      " [-0.52410755]\n",
      " [ 1.20505973]\n",
      " [ 0.94860126]\n",
      " [-0.47624147]\n",
      " [ 0.51666508]\n",
      " [-1.63432458]\n",
      " [-0.35509441]\n",
      " [-1.19289294]\n",
      " [-1.53812553]\n",
      " [-1.53382205]\n",
      " [-1.27437489]\n",
      " [ 1.33412357]\n",
      " [-0.16147834]\n",
      " [-0.96101242]\n",
      " [-0.42163598]\n",
      " [ 1.17134236]\n",
      " [ 0.21087431]\n",
      " [ 0.52740349]\n",
      " [ 1.06507478]\n",
      " [-0.21829648]\n",
      " [-0.28477715]\n",
      " [-0.02394963]\n",
      " [-0.01710872]\n",
      " [ 1.27468681]\n",
      " [ 0.87129632]\n",
      " [ 0.37716733]\n",
      " [-0.97453185]\n",
      " [ 0.04486548]\n",
      " [-0.36763946]\n",
      " [ 1.30801849]\n",
      " [ 1.13458007]\n",
      " [-0.96334686]\n",
      " [-1.06928964]\n",
      " [-0.46402121]\n",
      " [-0.64174282]\n",
      " [ 0.17691334]\n",
      " [-1.46807216]\n",
      " [ 1.28520192]\n",
      " [-0.79078131]\n",
      " [ 1.1841919 ]\n",
      " [-0.4644069 ]\n",
      " [-0.30367592]\n",
      " [ 1.13650852]\n",
      " [ 1.10918547]\n",
      " [-0.90273273]\n",
      " [ 1.32046205]\n",
      " [ 1.02965226]\n",
      " [ 1.57830555]\n",
      " [ 0.27924282]\n",
      " [-0.56007816]\n",
      " [-0.43470882]\n",
      " [-1.03490239]\n",
      " [ 0.25258966]\n",
      " [ 0.64455156]\n",
      " [-0.34633094]\n",
      " [-0.32119434]\n",
      " [-1.20879268]\n",
      " [ 0.87777184]\n",
      " [-0.72162112]\n",
      " [-0.22728913]\n",
      " [-1.24733604]\n",
      " [-0.56320428]\n",
      " [ 0.80907853]\n",
      " [-1.55935875]\n",
      " [ 1.22643504]\n",
      " [ 1.19566109]\n",
      " [-1.57399464]\n",
      " [ 0.19349798]\n",
      " [-0.69602352]\n",
      " [ 0.30437353]\n",
      " [ 0.7158229 ]\n",
      " [ 1.57134284]\n",
      " [-0.43144061]\n",
      " [ 0.50054733]\n",
      " [ 0.94620126]\n",
      " [-1.30384968]\n",
      " [ 1.49885354]\n",
      " [ 1.31650366]\n",
      " [ 1.47163199]\n",
      " [-0.36703048]\n",
      " [-0.97952551]\n",
      " [ 1.06024352]\n",
      " [-0.58827409]\n",
      " [-0.12778127]\n",
      " [ 0.11794346]\n",
      " [ 1.46927725]\n",
      " [ 1.27754903]\n",
      " [-0.98868056]\n",
      " [ 0.47917202]\n",
      " [-0.77531314]\n",
      " [-0.04292961]\n",
      " [-0.65605392]\n",
      " [ 1.08176092]\n",
      " [ 0.93830477]\n",
      " [ 0.52547504]\n",
      " [-1.11995705]\n",
      " [-1.4484426 ]\n",
      " [-1.47501457]\n",
      " [-0.25995093]\n",
      " [-1.51786669]\n",
      " [ 0.75244309]\n",
      " [ 1.29484416]\n",
      " [-0.92804613]\n",
      " [-1.53514151]\n",
      " [ 0.94252706]\n",
      " [-0.8856    ]\n",
      " [-1.00662527]\n",
      " [-1.30945233]\n",
      " [-1.46987881]\n",
      " [-0.58892367]\n",
      " [-1.03553167]\n",
      " [-1.31982534]\n",
      " [ 0.39779156]\n",
      " [-0.02731934]\n",
      " [ 0.46009054]\n",
      " [-1.07576516]]\n"
     ]
    }
   ],
   "source": [
    "y_pred= weight[[1],:] * X_test + weight[[0],:]\n",
    "print(y_pred)"
   ]
  },
  {
   "cell_type": "markdown",
   "metadata": {},
   "source": [
    "# Evalutions"
   ]
  },
  {
   "cell_type": "code",
   "execution_count": 13,
   "metadata": {},
   "outputs": [
    {
     "data": {
      "text/plain": [
       "0.9134554891584079"
      ]
     },
     "execution_count": 13,
     "metadata": {},
     "output_type": "execute_result"
    }
   ],
   "source": [
    "from sklearn.metrics import r2_score\n",
    "r2_score(y_test, y_pred)"
   ]
  },
  {
   "cell_type": "markdown",
   "metadata": {},
   "source": [
    "# Question 7"
   ]
  },
  {
   "cell_type": "markdown",
   "metadata": {},
   "source": [
    "a) The R Squared value for this model is 0.9134554891584079 which is good but not pretty good.regression model fits the data well if the differences between the observations and the predicted values are small and unbiased. Unbiased in this context means that the fitted values are not systematically too high or too low anywhere in the observation space.\n",
    "\n",
    "\n",
    "b)I feel we can increase the R Squared value  by providing the more number of independent variables.\n",
    "\n",
    "c) i have improved the r squared value to 0.9989507784875615 by providing 95% train data."
   ]
  },
  {
   "cell_type": "code",
   "execution_count": 117,
   "metadata": {},
   "outputs": [],
   "source": [
    "from sklearn.model_selection import train_test_split\n",
    "X_train, X_test, y_train, y_test = train_test_split(X, y, test_size = 0.05, random_state = 42)"
   ]
  },
  {
   "cell_type": "code",
   "execution_count": 118,
   "metadata": {},
   "outputs": [],
   "source": [
    "# Write your code here\n",
    "alpha = 0.2 # learning rate\n",
    "n_iterations = 1000\n",
    "m =1000\n",
    "\n",
    "weight = np.random.randn(2,1)  # random initialization\n",
    "\n",
    "X_b = np.c_[np.ones((950, 1)), X_train]  # add x0 = 1 to each instance\n",
    "\n",
    "for iteration in range(n_iterations):\n",
    "    gradients = 1/m * X_b.T.dot(X_b.dot(weight) - y_train)\n",
    "    weight = weight - alpha * gradients\n"
   ]
  },
  {
   "cell_type": "code",
   "execution_count": 119,
   "metadata": {},
   "outputs": [
    {
     "name": "stdout",
     "output_type": "stream",
     "text": [
      "[[0.00098084]\n",
      " [0.94598857]]\n"
     ]
    }
   ],
   "source": [
    "print(weight)"
   ]
  },
  {
   "cell_type": "code",
   "execution_count": 120,
   "metadata": {},
   "outputs": [],
   "source": [
    "y_pred= weight[[1],:] * X_test + weight[[0],:]"
   ]
  },
  {
   "cell_type": "code",
   "execution_count": 121,
   "metadata": {},
   "outputs": [
    {
     "data": {
      "text/plain": [
       "0.9989507784875615"
      ]
     },
     "execution_count": 121,
     "metadata": {},
     "output_type": "execute_result"
    }
   ],
   "source": [
    "from sklearn.metrics import r2_score\n",
    "r2_score(y_test, y_pred)"
   ]
  }
 ],
 "metadata": {
  "kernelspec": {
   "display_name": "Python 3.10.1 64-bit",
   "language": "python",
   "name": "python3"
  },
  "language_info": {
   "codemirror_mode": {
    "name": "ipython",
    "version": 3
   },
   "file_extension": ".py",
   "mimetype": "text/x-python",
   "name": "python",
   "nbconvert_exporter": "python",
   "pygments_lexer": "ipython3",
   "version": "3.10.1"
  },
  "vscode": {
   "interpreter": {
    "hash": "aee8b7b246df8f9039afb4144a1f6fd8d2ca17a180786b69acc140d282b71a49"
   }
  }
 },
 "nbformat": 4,
 "nbformat_minor": 4
}
