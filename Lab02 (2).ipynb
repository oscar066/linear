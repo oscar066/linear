{
 "cells": [
  {
   "cell_type": "markdown",
   "metadata": {},
   "source": [
    "# Setup\n",
    "\n",
    "First, let's import a few common modules, ensure MatplotLib plots figures inline and prepare a function to save the figures. We also check that Python 3.5 or later is installed, as well as Scikit-Learn ≥0.20. You don't need to change any code in the following cell, just run it."
   ]
  },
  {
   "cell_type": "code",
   "execution_count": 1,
   "metadata": {},
   "outputs": [],
   "source": [
    "# Python ≥3.5 is required\n",
    "import sys\n",
    "assert sys.version_info >= (3, 5)\n",
    "\n",
    "# Scikit-Learn ≥0.20 is required\n",
    "import sklearn\n",
    "assert sklearn.__version__ >= \"0.20\"\n",
    "\n",
    "# Common imports\n",
    "import numpy as np\n",
    "import os\n",
    "\n",
    "# to make this notebook's output stable across runs\n",
    "np.random.seed(42)\n",
    "\n",
    "# To plot pretty figures\n",
    "%matplotlib inline\n",
    "import matplotlib as mpl\n",
    "import matplotlib.pyplot as plt\n",
    "mpl.rc('axes', labelsize=14)\n",
    "mpl.rc('xtick', labelsize=12)\n",
    "mpl.rc('ytick', labelsize=12)\n",
    "\n",
    "# Where to save the figures\n",
    "PROJECT_ROOT_DIR = \".\"\n",
    "CHAPTER_ID = \"training_linear_models\"\n",
    "IMAGES_PATH = os.path.join(PROJECT_ROOT_DIR, \"images\", CHAPTER_ID)\n",
    "os.makedirs(IMAGES_PATH, exist_ok=True)\n",
    "\n",
    "def save_fig(fig_id, tight_layout=True, fig_extension=\"png\", resolution=300):\n",
    "    path = os.path.join(IMAGES_PATH, fig_id + \".\" + fig_extension)\n",
    "    print(\"Saving figure\", fig_id)\n",
    "    if tight_layout:\n",
    "        plt.tight_layout()\n",
    "    # plt.savefig(path, format=fig_extension, dpi=resolution)"
   ]
  },
  {
   "cell_type": "markdown",
   "metadata": {},
   "source": [
    "# Prepare randomly generated linear dataset\n",
    "The function that we used to generate the data is $y = 4 + 3x_{1} + noise$."
   ]
  },
  {
   "cell_type": "code",
   "execution_count": 22,
   "metadata": {},
   "outputs": [],
   "source": [
    "X = 2 * np.random.rand(1000, 1)\n",
    "y = 4 + 3 * X + np.random.randn(1000, 1)"
   ]
  },
  {
   "cell_type": "markdown",
   "metadata": {},
   "source": [
    "# Visualize the dataset\n",
    "- Pyplot tutorial: https://matplotlib.org/stable/tutorials/introductory/pyplot.html <br>\n",
    "- \"b.\" means blue dots."
   ]
  },
  {
   "cell_type": "code",
   "execution_count": 23,
   "metadata": {
    "scrolled": true
   },
   "outputs": [
    {
     "name": "stdout",
     "output_type": "stream",
     "text": [
      "Saving figure generated_data_plot\n"
     ]
    },
    {
     "data": {
      "image/png": "[encoded data removed]",
      "text/plain": [
       "<Figure size 432x288 with 1 Axes>"
      ]
     },
     "metadata": {
      "needs_background": "light"
     },
     "output_type": "display_data"
    }
   ],
   "source": [
    "plt.plot(X, y, \"b.\")\n",
    "plt.xlabel(\"$x_1$\", fontsize=18)\n",
    "plt.ylabel(\"$y$\", rotation=0, fontsize=18)\n",
    "plt.axis([0, 2, 0, 15])\n",
    "save_fig(\"generated_data_plot\")\n",
    "plt.show()"
   ]
  },
  {
   "cell_type": "markdown",
   "metadata": {},
   "source": [
    "# Training with scikit_learn Linear Regression \n",
    "\n"
   ]
  },
  {
   "cell_type": "code",
   "execution_count": 24,
   "metadata": {},
   "outputs": [],
   "source": [
    "# Splitting the dataset into the Training set and Test set\n",
    "from sklearn.model_selection import train_test_split\n",
    "X_train, X_test, y_train, y_test = train_test_split(X, y, test_size = 0.20, random_state = 42)"
   ]
  },
  {
   "cell_type": "code",
   "execution_count": 25,
   "metadata": {},
   "outputs": [
    {
     "data": {
      "text/html": [
       "<style>#sk-container-id-2 {color: black;background-color: white;}#sk-container-id-2 pre{padding: 0;}#sk-container-id-2 div.sk-toggleable {background-color: white;}#sk-container-id-2 label.sk-toggleable__label {cursor: pointer;display: block;width: 100%;margin-bottom: 0;padding: 0.3em;box-sizing: border-box;text-align: center;}#sk-container-id-2 label.sk-toggleable__label-arrow:before {content: \"▸\";float: left;margin-right: 0.25em;color: #696969;}#sk-container-id-2 label.sk-toggleable__label-arrow:hover:before {color: black;}#sk-container-id-2 div.sk-estimator:hover label.sk-toggleable__label-arrow:before {color: black;}#sk-container-id-2 div.sk-toggleable__content {max-height: 0;max-width: 0;overflow: hidden;text-align: left;background-color: #f0f8ff;}#sk-container-id-2 div.sk-toggleable__content pre {margin: 0.2em;color: black;border-radius: 0.25em;background-color: #f0f8ff;}#sk-container-id-2 input.sk-toggleable__control:checked~div.sk-toggleable__content {max-height: 200px;max-width: 100%;overflow: auto;}#sk-container-id-2 input.sk-toggleable__control:checked~label.sk-toggleable__label-arrow:before {content: \"▾\";}#sk-container-id-2 div.sk-estimator input.sk-toggleable__control:checked~label.sk-toggleable__label {background-color: #d4ebff;}#sk-container-id-2 div.sk-label input.sk-toggleable__control:checked~label.sk-toggleable__label {background-color: #d4ebff;}#sk-container-id-2 input.sk-hidden--visually {border: 0;clip: rect(1px 1px 1px 1px);clip: rect(1px, 1px, 1px, 1px);height: 1px;margin: -1px;overflow: hidden;padding: 0;position: absolute;width: 1px;}#sk-container-id-2 div.sk-estimator {font-family: monospace;background-color: #f0f8ff;border: 1px dotted black;border-radius: 0.25em;box-sizing: border-box;margin-bottom: 0.5em;}#sk-container-id-2 div.sk-estimator:hover {background-color: #d4ebff;}#sk-container-id-2 div.sk-parallel-item::after {content: \"\";width: 100%;border-bottom: 1px solid gray;flex-grow: 1;}#sk-container-id-2 div.sk-label:hover label.sk-toggleable__label {background-color: #d4ebff;}#sk-container-id-2 div.sk-serial::before {content: \"\";position: absolute;border-left: 1px solid gray;box-sizing: border-box;top: 0;bottom: 0;left: 50%;z-index: 0;}#sk-container-id-2 div.sk-serial {display: flex;flex-direction: column;align-items: center;background-color: white;padding-right: 0.2em;padding-left: 0.2em;position: relative;}#sk-container-id-2 div.sk-item {position: relative;z-index: 1;}#sk-container-id-2 div.sk-parallel {display: flex;align-items: stretch;justify-content: center;background-color: white;position: relative;}#sk-container-id-2 div.sk-item::before, #sk-container-id-2 div.sk-parallel-item::before {content: \"\";position: absolute;border-left: 1px solid gray;box-sizing: border-box;top: 0;bottom: 0;left: 50%;z-index: -1;}#sk-container-id-2 div.sk-parallel-item {display: flex;flex-direction: column;z-index: 1;position: relative;background-color: white;}#sk-container-id-2 div.sk-parallel-item:first-child::after {align-self: flex-end;width: 50%;}#sk-container-id-2 div.sk-parallel-item:last-child::after {align-self: flex-start;width: 50%;}#sk-container-id-2 div.sk-parallel-item:only-child::after {width: 0;}#sk-container-id-2 div.sk-dashed-wrapped {border: 1px dashed gray;margin: 0 0.4em 0.5em 0.4em;box-sizing: border-box;padding-bottom: 0.4em;background-color: white;}#sk-container-id-2 div.sk-label label {font-family: monospace;font-weight: bold;display: inline-block;line-height: 1.2em;}#sk-container-id-2 div.sk-label-container {text-align: center;}#sk-container-id-2 div.sk-container {/* jupyter's `normalize.less` sets `[hidden] { display: none; }` but bootstrap.min.css set `[hidden] { display: none !important; }` so we also need the `!important` here to be able to override the default hidden behavior on the sphinx rendered scikit-learn.org. See: https://github.com/scikit-learn/scikit-learn/issues/21755 */display: inline-block !important;position: relative;}#sk-container-id-2 div.sk-text-repr-fallback {display: none;}</style><div id=\"sk-container-id-2\" class=\"sk-top-container\"><div class=\"sk-text-repr-fallback\"><pre>LinearRegression()</pre><b>In a Jupyter environment, please rerun this cell to show the HTML representation or trust the notebook. <br />On GitHub, the HTML representation is unable to render, please try loading this page with nbviewer.org.</b></div><div class=\"sk-container\" hidden><div class=\"sk-item\"><div class=\"sk-estimator sk-toggleable\"><input class=\"sk-toggleable__control sk-hidden--visually\" id=\"sk-estimator-id-2\" type=\"checkbox\" checked><label for=\"sk-estimator-id-2\" class=\"sk-toggleable__label sk-toggleable__label-arrow\">LinearRegression</label><div class=\"sk-toggleable__content\"><pre>LinearRegression()</pre></div></div></div></div></div>"
      ],
      "text/plain": [
       "LinearRegression()"
      ]
     },
     "execution_count": 25,
     "metadata": {},
     "output_type": "execute_result"
    }
   ],
   "source": [
    "# Fitting Linear Regression to the Training set\n",
    "from sklearn.linear_model import LinearRegression\n",
    "\n",
    "lin_reg = LinearRegression()\n",
    "lin_reg.fit(X_train, y_train)"
   ]
  },
  {
   "cell_type": "code",
   "execution_count": 26,
   "metadata": {},
   "outputs": [
    {
     "data": {
      "text/plain": [
       "(array([4.19210823]), array([[2.9124805]]))"
      ]
     },
     "execution_count": 26,
     "metadata": {},
     "output_type": "execute_result"
    }
   ],
   "source": [
    "# Calculating the Intercept and the Coefficient\n",
    "lin_reg.intercept_, lin_reg.coef_"
   ]
  },
  {
   "cell_type": "markdown",
   "metadata": {},
   "source": [
    "We would have hoped for $w_{0} = 4$ (intercept) and $w_{1} = 3$ (coefficient) instead of 4.27 and 2.73. But it was close\n",
    "enough. The noise made it impossible to recover the exact parameters of the original function. \n",
    "# Prediction\n",
    "Now we can make predictions using the weights."
   ]
  },
  {
   "cell_type": "code",
   "execution_count": 27,
   "metadata": {
    "scrolled": true
   },
   "outputs": [
    {
     "data": {
      "text/plain": [
       "array([[5.78469377],\n",
       "       [7.1204349 ],\n",
       "       [6.42825963],\n",
       "       [5.62480241],\n",
       "       [6.10656639],\n",
       "       [9.60568713],\n",
       "       [7.17260938],\n",
       "       [5.06828076],\n",
       "       [7.45199134],\n",
       "       [7.08856139],\n",
       "       [6.51628342],\n",
       "       [6.11957632],\n",
       "       [5.42378463],\n",
       "       [7.66869455],\n",
       "       [5.39450409],\n",
       "       [9.39188614],\n",
       "       [6.90419853],\n",
       "       [5.60857676],\n",
       "       [9.29923388],\n",
       "       [8.490329  ],\n",
       "       [6.5423802 ],\n",
       "       [6.17880643],\n",
       "       [4.32766635],\n",
       "       [7.42747626],\n",
       "       [6.08754879],\n",
       "       [9.748705  ],\n",
       "       [8.59316415],\n",
       "       [5.77734304],\n",
       "       [5.70323962],\n",
       "       [9.51852216],\n",
       "       [8.02897295],\n",
       "       [4.40697326],\n",
       "       [8.5460973 ],\n",
       "       [5.13934556],\n",
       "       [9.11347398],\n",
       "       [7.72453386],\n",
       "       [5.60413547],\n",
       "       [5.0007711 ],\n",
       "       [6.18318098],\n",
       "       [7.35329176],\n",
       "       [4.46007183],\n",
       "       [6.02321956],\n",
       "       [5.10334791],\n",
       "       [6.13906586],\n",
       "       [9.87640854],\n",
       "       [4.73954937],\n",
       "       [5.00385193],\n",
       "       [6.31396597],\n",
       "       [9.70979426],\n",
       "       [9.79030536],\n",
       "       [5.04880552],\n",
       "       [5.23212393],\n",
       "       [8.28405063],\n",
       "       [7.88164351],\n",
       "       [4.46268007],\n",
       "       [5.96647156],\n",
       "       [7.01443573],\n",
       "       [5.96430743],\n",
       "       [6.48188715],\n",
       "       [6.20956014],\n",
       "       [7.34128674],\n",
       "       [6.45613829],\n",
       "       [7.2228803 ],\n",
       "       [5.57407492],\n",
       "       [4.42109991],\n",
       "       [5.09126503],\n",
       "       [5.27885387],\n",
       "       [7.94338046],\n",
       "       [8.68472793],\n",
       "       [8.69083275],\n",
       "       [8.89937793],\n",
       "       [9.93674736],\n",
       "       [8.08060603],\n",
       "       [7.35828245],\n",
       "       [7.82042097],\n",
       "       [7.23415486],\n",
       "       [7.95455098],\n",
       "       [8.05127471],\n",
       "       [6.95291631],\n",
       "       [9.79949771],\n",
       "       [7.43523037],\n",
       "       [4.22427435],\n",
       "       [6.16091684],\n",
       "       [8.94213926],\n",
       "       [9.75416126],\n",
       "       [9.29858129],\n",
       "       [8.89029547],\n",
       "       [9.65790481],\n",
       "       [8.78565624],\n",
       "       [4.86822684],\n",
       "       [8.56440989],\n",
       "       [6.9220382 ],\n",
       "       [4.5204933 ],\n",
       "       [5.73690168],\n",
       "       [7.75380531],\n",
       "       [6.37222102],\n",
       "       [4.83653379],\n",
       "       [8.68296199],\n",
       "       [9.94068616],\n",
       "       [5.01259488],\n",
       "       [4.5794464 ],\n",
       "       [7.60422815],\n",
       "       [7.98660659],\n",
       "       [5.00809216],\n",
       "       [6.06820681],\n",
       "       [4.69841552],\n",
       "       [8.29334543],\n",
       "       [6.26388794],\n",
       "       [7.95021458],\n",
       "       [8.85123391],\n",
       "       [8.67142994],\n",
       "       [6.8262601 ],\n",
       "       [8.23868809],\n",
       "       [6.1347279 ],\n",
       "       [8.62365148],\n",
       "       [8.30594167],\n",
       "       [4.73442822],\n",
       "       [8.43377934],\n",
       "       [9.74941827],\n",
       "       [4.49315224],\n",
       "       [4.26784393],\n",
       "       [8.62787797],\n",
       "       [8.44938278],\n",
       "       [8.25219775],\n",
       "       [6.34826823],\n",
       "       [7.62835576],\n",
       "       [5.0769355 ],\n",
       "       [7.44479121],\n",
       "       [6.57296884],\n",
       "       [9.63475966],\n",
       "       [6.87612659],\n",
       "       [5.30285677],\n",
       "       [8.91098717],\n",
       "       [7.34866012],\n",
       "       [9.69533177],\n",
       "       [5.77270576],\n",
       "       [8.95701235],\n",
       "       [7.50248369],\n",
       "       [5.1854046 ],\n",
       "       [6.28015712],\n",
       "       [9.83990088],\n",
       "       [6.03816655],\n",
       "       [8.82450931],\n",
       "       [7.35299207],\n",
       "       [4.69019209],\n",
       "       [9.25090033],\n",
       "       [7.63626459],\n",
       "       [5.90726155],\n",
       "       [8.48802425],\n",
       "       [7.75535773],\n",
       "       [7.09551461],\n",
       "       [4.71804262],\n",
       "       [4.62978288],\n",
       "       [8.27522609],\n",
       "       [9.43468173],\n",
       "       [5.49454527],\n",
       "       [8.24613085],\n",
       "       [4.97506848],\n",
       "       [5.01298635],\n",
       "       [8.39928495],\n",
       "       [5.81488609],\n",
       "       [6.50629121],\n",
       "       [4.93525852],\n",
       "       [5.84509182],\n",
       "       [5.7691854 ],\n",
       "       [6.58265375],\n",
       "       [8.42156194],\n",
       "       [7.74894617],\n",
       "       [7.39133214],\n",
       "       [6.57424319],\n",
       "       [9.46574042],\n",
       "       [9.44131851],\n",
       "       [8.87346674],\n",
       "       [4.72557024],\n",
       "       [5.80784281],\n",
       "       [4.5961351 ],\n",
       "       [7.77450135],\n",
       "       [8.50705655],\n",
       "       [6.81822999],\n",
       "       [8.08692892],\n",
       "       [8.25887299],\n",
       "       [4.84473047],\n",
       "       [9.3033485 ],\n",
       "       [9.99747895],\n",
       "       [8.56059873],\n",
       "       [5.94471265],\n",
       "       [7.93923702],\n",
       "       [4.29824966],\n",
       "       [9.28248386],\n",
       "       [8.817274  ],\n",
       "       [6.63143021],\n",
       "       [6.63233264],\n",
       "       [7.72072293],\n",
       "       [4.2456807 ],\n",
       "       [9.13880149],\n",
       "       [7.87253536],\n",
       "       [6.9541523 ],\n",
       "       [8.34052443],\n",
       "       [8.55069175],\n",
       "       [6.00356813]])"
      ]
     },
     "execution_count": 27,
     "metadata": {},
     "output_type": "execute_result"
    }
   ],
   "source": [
    "# Predicting the Test set results\n",
    "y_pred = lin_reg.predict(X_test)\n",
    "y_pred"
   ]
  },
  {
   "cell_type": "markdown",
   "metadata": {},
   "source": [
    "# Evaluation\n",
    "Best possible $R^{2}$ score  is 1.0. <br>\n",
    "$R^{2}$ score document: <br>\n",
    "    https://scikit-learn.org/stable/modules/generated/sklearn.metrics.r2_score.html"
   ]
  },
  {
   "cell_type": "code",
   "execution_count": 28,
   "metadata": {},
   "outputs": [
    {
     "data": {
      "text/plain": [
       "0.7477249727324227"
      ]
     },
     "execution_count": 28,
     "metadata": {},
     "output_type": "execute_result"
    }
   ],
   "source": [
    "# Calculating the R squared value\n",
    "from sklearn.metrics import r2_score\n",
    "r2_score(y_test, y_pred)"
   ]
  },
  {
   "cell_type": "markdown",
   "metadata": {},
   "source": [
    "# Calulate and plot the model predictions\n",
    "- Remember 0 is the lower bound of X values and 2 is the upper bound of X values.  \n",
    "- \"r-\" means red solid line."
   ]
  },
  {
   "cell_type": "code",
   "execution_count": 9,
   "metadata": {},
   "outputs": [],
   "source": [
    "X_new = np.array([[0], [2]])\n",
    "y_predict = lin_reg.predict(X_new)"
   ]
  },
  {
   "cell_type": "code",
   "execution_count": 10,
   "metadata": {},
   "outputs": [
    {
     "name": "stdout",
     "output_type": "stream",
     "text": [
      "Saving figure linear_model_predictions_plot\n"
     ]
    },
    {
     "data": {
      "image/png": "[encoded data removed]",
      "text/plain": [
       "<Figure size 432x288 with 1 Axes>"
      ]
     },
     "metadata": {
      "needs_background": "light"
     },
     "output_type": "display_data"
    }
   ],
   "source": [
    "plt.plot(X_new, y_predict, \"r-\", linewidth=2, label=\"Predictions\")\n",
    "plt.plot(X, y, \"b.\")\n",
    "plt.xlabel(\"$x_1$\", fontsize=18)\n",
    "plt.ylabel(\"$y$\", rotation=0, fontsize=18)\n",
    "plt.legend(loc=\"upper left\", fontsize=14)\n",
    "plt.axis([0, 2, 0, 15])\n",
    "save_fig(\"linear_model_predictions_plot\")\n",
    "plt.show()"
   ]
  },
  {
   "cell_type": "markdown",
   "metadata": {},
   "source": [
    "The LinearRegression class is based on the scipy.linalg.lstsq() function (the name stands for “least squares”), which you could call directly. This function computes $W = X^{+}y$, where $X^{+}$ is the pseudoinverse of X (specifically, the Moore-Penrose inverse). You can use np.linalg.pinv() to compute the pseudoinverse. I will not go through details of this method. If you are interested, you can do research on this topic by yourself. "
   ]
  },
  {
   "cell_type": "markdown",
   "metadata": {},
   "source": [
    "# Linear regression using gradient descent\n",
    "This method involves calculations over the full training set X, at each Gradient Descent step. As a result it is terribly slow on very large training sets. There are faster Gradient Descent algorithms available, such as Stochastic Gradient Descent and Mini-batch Gradient Descent. If you are interested in these algorithms, you can do some research by yourself. Gradient Descent scales well with the number of features; training a Linear Regression model when there are hundreds of thousands of features is much faster using Gradient Descent than using the the LinearRegression solver."
   ]
  },
  {
   "cell_type": "code",
   "execution_count": 17,
   "metadata": {},
   "outputs": [],
   "source": [
    "# split the dataset into training and test sets\n",
    "from sklearn.model_selection import train_test_split\n",
    "X_train, X_test, y_train, y_test = train_test_split(X, y, test_size = 0.20, random_state = 42)"
   ]
  },
  {
   "cell_type": "code",
   "execution_count": 19,
   "metadata": {},
   "outputs": [],
   "source": [
    "alpha = 0.2  # learning rate\n",
    "n_iterations = 1000\n",
    "m = 80\n",
    "\n",
    "weight = np.random.randn(2,1)  # random initialization\n",
    "\n",
    "X_b = np.c_[np.ones((80, 1)), X_train]  # add x0 = 1 to each instance\n",
    "\n",
    "for iteration in range(n_iterations):\n",
    "    gradients = 1/m * X_b.T.dot(X_b.dot(weight) - y_train)\n",
    "    weight = weight - alpha * gradients"
   ]
  },
  {
   "cell_type": "code",
   "execution_count": 20,
   "metadata": {},
   "outputs": [
    {
     "data": {
      "text/plain": [
       "array([[4.14291332],\n",
       "       [2.79932366]])"
      ]
     },
     "execution_count": 20,
     "metadata": {},
     "output_type": "execute_result"
    }
   ],
   "source": [
    "weight"
   ]
  },
  {
   "cell_type": "code",
   "execution_count": 21,
   "metadata": {},
   "outputs": [
    {
     "data": {
      "text/plain": [
       "array([[4.14291332],\n",
       "       [9.74156063]])"
      ]
     },
     "execution_count": 21,
     "metadata": {},
     "output_type": "execute_result"
    }
   ],
   "source": [
    "X_new_b = np.c_[np.ones((2, 1)), X_new]  # add x0 = 1 to each instance\n",
    "X_new_b.dot(weight)"
   ]
  },
  {
   "cell_type": "markdown",
   "metadata": {},
   "source": [
    "# Gradient Descent with various learning rates"
   ]
  },
  {
   "cell_type": "code",
   "execution_count": 15,
   "metadata": {},
   "outputs": [],
   "source": [
    "def plot_gradient_descent(weight, alpha):\n",
    "    m = len(X_b)\n",
    "    plt.plot(X, y, \"b.\")\n",
    "    n_iterations = 1000\n",
    "    for iteration in range(n_iterations):\n",
    "        if iteration < 10:\n",
    "            y_predict = X_new_b.dot(weight)\n",
    "            style = \"b-\" if iteration > 0 else \"r--\"\n",
    "            plt.plot(X_new, y_predict, style)\n",
    "        gradients = 1/m * X_b.T.dot(X_b.dot(weight) - y)\n",
    "        weight = weight - alpha * gradients\n",
    "    plt.xlabel(\"$x_1$\", fontsize=18)\n",
    "    plt.axis([0, 2, 0, 15])\n",
    "    plt.title(r\"$\\alpha = {}$\".format(alpha), fontsize=16)"
   ]
  },
  {
   "cell_type": "code",
   "execution_count": 16,
   "metadata": {},
   "outputs": [
    {
     "name": "stdout",
     "output_type": "stream",
     "text": [
      "Saving figure gradient_descent_plot\n"
     ]
    },
    {
     "data": {
      "image/png": "[encoded data removed]",
      "text/plain": [
       "<Figure size 720x288 with 3 Axes>"
      ]
     },
     "metadata": {
      "needs_background": "light"
     },
     "output_type": "display_data"
    }
   ],
   "source": [
    "np.random.seed(42)\n",
    "weight = np.random.randn(2,1)  # random initialization\n",
    "\n",
    "plt.figure(figsize=(10,4))\n",
    "plt.subplot(131); plot_gradient_descent(weight, alpha=0.02)\n",
    "plt.ylabel(\"$y$\", rotation=0, fontsize=18)\n",
    "plt.subplot(132); plot_gradient_descent(weight, alpha=0.2)\n",
    "plt.subplot(133); plot_gradient_descent(weight, alpha=1)\n",
    "\n",
    "save_fig(\"gradient_descent_plot\")\n",
    "plt.show()"
   ]
  },
  {
   "cell_type": "markdown",
   "metadata": {},
   "source": [
    "The above figure shows the first 10 steps of Gradient Descent using three different learning rates (the dashed line\n",
    "represents the starting point). <br>\n",
    "- On the left, the learning rate is too low: the algorithm will eventually reach the solution, but it will take a long time. \n",
    "- In the middle, the learning rate looks pretty good: in just a few iterations, it has already converged to the solution. \n",
    "- On the right, the learning rate is too high: the algorithm diverges, jumping all over the place and actually getting further and further away from the solution at every step.\n",
    "\n",
    "You may wonder how to set the number of iterations. If it is too low, you will still be far away from the optimal solution when the algorithm stops; but if it is too high, you will waste time while the model parameters do not change anymore. A simple solution is to set a very large number of iterations but to interrupt the algorithm when the gradient vector becomes tiny—that is, when its norm becomes smaller than a tiny number ϵ (called the tolerance)—because this happens when Gradient Descent has\n",
    "(almost) reached the minimum."
   ]
  },
  {
   "cell_type": "markdown",
   "metadata": {},
   "source": [
    "## Run the program and complete the following exercises. (20 points)\n",
    "1. (6 points) In the gradient descent model, you may noticed that we used the whole dataset to train the model. Modify the model and use only training dataset to train the model. What are the new weight values (intercept and coefficient)? Comparing to the linear regression solver, discuss the results.  \n",
    "2. (6 points) Change the size of the training set from 80% to 85% and run the linear regression solver again. What are the new weight values (intercept and coefficient) and the new $R^{2}$ value? Compare with the original values, do you think the model performance improved? Explain your conclusion.\n",
    "3. (6 points) Change the size of the training set back to 80% and change the size of the original dataset from 100 to 1000.  Run the linear regression solver again. What are the new weight values (intercept and coefficient) and the new $R^{2}$ value? Compare with the original values, do you think the model performance improved? Explain your conclusion.<br>\n",
    "**Note:** Please update the code directly according to the instructions.\n",
    "4. (2 points) Create a new Markdown field at the end of this file and put your answers in this field. Submit this file to the Blackboard. "
   ]
  },
  {
   "cell_type": "markdown",
   "metadata": {},
   "source": [
    "## Solutions"
   ]
  },
  {
   "cell_type": "markdown",
   "metadata": {},
   "source": [
    "1. (6 points) In the gradient descent model, you may noticed that we used the whole dataset to train the model. Modify the model and use only training dataset to train the model. What are the new weight values (intercept and coefficient)? Comparing to the linear regression solver, discuss the results.  \n",
    "\n",
    "Answer: The new weight values are 4.14291332 for the intercept and 2.79932366 for the coefficient compared to 4.21509616 and 2.77011339 for the gradient descent trained on full dataset. Based on the results, the gradient descent performs better when trained on the full dataset. This is because the gradient descent is more accurate when trained on the full dataset.\n"
   ]
  },
  {
   "cell_type": "markdown",
   "metadata": {},
   "source": [
    "2. (6 points) Change the size of the training set from 80% to 85% and run the linear regression solver again. What are the new weight values (intercept and coefficient) and the new $R^{2}$ value? Compare with the original values, do you think the model performance improved? Explain your conclusion.\n",
    "\n",
    "Answer:After increasing the training set from 80% to 85% the new weight values are: intercept = 4.14872355, coefficient = 2.78124316, the R squared value decreased from 0.81 to 0.74 showing a decrease in the performance of the model. This is because the model is trained on a larger dataset and the model is more likely to overfit the data and not generalize well on the test set.\n"
   ]
  },
  {
   "cell_type": "markdown",
   "metadata": {},
   "source": [
    "3. (6 points) Change the size of the training set back to 80% and change the size of the original dataset from 100 to 1000.  Run the linear regression solver again. What are the new weight values (intercept and coefficient) and the new $R^{2}$ value? Compare with the original values, do you think the model performance improved? Explain your conclusion.\n",
    "\n",
    "Answer: The new weight values are  4.19210823 and 2.9124805 for the intercept and coefficient respectively. The R squared value decreased from 0.81 to 0.75 showing a decrease in the performance of the model. "
   ]
  },
  {
   "cell_type": "markdown",
   "metadata": {},
   "source": []
  }
 ],
 "metadata": {
  "kernelspec": {
   "display_name": "Python 3.10.1 64-bit",
   "language": "python",
   "name": "python3"
  },
  "language_info": {
   "codemirror_mode": {
    "name": "ipython",
    "version": 3
   },
   "file_extension": ".py",
   "mimetype": "text/x-python",
   "name": "python",
   "nbconvert_exporter": "python",
   "pygments_lexer": "ipython3",
   "version": "3.10.1 (v3.10.1:2cd268a3a9, Dec  6 2021, 14:28:59) [Clang 13.0.0 (clang-1300.0.29.3)]"
  },
  "vscode": {
   "interpreter": {
    "hash": "aee8b7b246df8f9039afb4144a1f6fd8d2ca17a180786b69acc140d282b71a49"
   }
  }
 },
 "nbformat": 4,
 "nbformat_minor": 4
}
